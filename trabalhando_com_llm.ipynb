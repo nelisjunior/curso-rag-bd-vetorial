```json
{
  "nbformat": 4,
  "nbformat_minor": 0,
  "metadata": {
    "colab": {
      "provenance": []
    },
    "kernelspec": {
      "name": "python3",
      "display_name": "Python 3"
    },
    "language_info": {
      "name": "python"
    }
  },
  "cells": [
    {
      "cell_type": "markdown",
      "metadata": {},
      "source": [
        "# Configurando Hugging Face com API do DeepSeek",
        "Este notebook demonstra como configurar o Hugging Face com a API do DeepSeek.",
        "Certifique-se de ter as bibliotecas necessárias instaladas."
      ]
    },
    {
      "cell_type": "code",
      "execution_count": null,
      "metadata": {
        "id": "install-packages"
      },
      "outputs": [],
      "source": [
        "!pip install huggingface_hub --upgrade"
      ]
    },
    {
      "cell_type": "code",
      "execution_count": null,
      "metadata": {
        "id": "import-libraries"
      },
      "outputs": [],
      "source": [
        "from huggingface_hub import InferenceClient"
      ]
    },
    {
      "cell_type": "markdown",
      "metadata": {},
      "source": [
        "## Configurando o Cliente de Inferência",
        "Substitua `YOUR_HF_TOKEN` pelo seu token de API do Hugging Face."
      ]
    },
    {
      "cell_type": "code",
      "execution_count": null,
      "metadata": {
        "id": "configure-client"
      },
      "outputs": [],
      "source": [
        "client = InferenceClient(api_key=\"YOUR_HF_TOKEN\")"
      ]
    },
    {
      "cell_type": "markdown",
      "metadata": {},
      "source": [
        "## Enviando uma Solicitação de Chat",
        "Vamos configurar uma mensagem para enviar ao modelo."
      ]
    },
    {
      "cell_type": "code",
      "execution_count": null,
      "metadata": {
        "id": "create-messages"
      },
      "outputs": [],
      "source": [
        "messages = [\n",
        "\t{ \"role\": \"user\", \"content\": \"Tell me a story\" }\n",
        "]"
      ]
    },
    {
      "cell_type": "code",
      "execution_count": null,
      "metadata": {
        "id": "send-request"
      },
      "outputs": [],
      "source": [
        "stream = client.chat.completions.create(\n",
        "    model=\"deepseek-ai/DeepSeek-R1-Distill-Qwen-1.5B\", \n",
        "\tmessages=messages, \n",
        "\ttemperature=0.5,\n",
        "\tmax_tokens=2048,\n",
        "\ttop_p=0.7,\n",
        "\tstream=True\n",
        ")\n",
        "\n",
        "for chunk in stream:\n",
        "    print(chunk.choices[0].delta.content)"
      ]
    }
  ]
}
```